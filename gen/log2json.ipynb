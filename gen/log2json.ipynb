{
 "cells": [
  {
   "cell_type": "code",
   "execution_count": 1,
   "id": "f828691c-a4c0-499a-89e9-086253f54c92",
   "metadata": {
    "tags": []
   },
   "outputs": [],
   "source": [
    "var fs = require(\"fs\")"
   ]
  },
  {
   "cell_type": "code",
   "execution_count": 2,
   "id": "b3cda821-2c31-4e75-95e6-c7b683681743",
   "metadata": {
    "tags": []
   },
   "outputs": [],
   "source": [
    "var inFileName = \"re2-exhaustive.txt\""
   ]
  },
  {
   "cell_type": "code",
   "execution_count": 3,
   "id": "d50b8233-e331-4aed-9555-19dc25cc0233",
   "metadata": {
    "tags": []
   },
   "outputs": [],
   "source": [
    "var content = fs.readFileSync(inFileName, { encoding: \"utf-8\" })"
   ]
  },
  {
   "cell_type": "code",
   "execution_count": 4,
   "id": "7b349e97-c9bd-4ce5-aace-bb8e4f71a626",
   "metadata": {
    "tags": []
   },
   "outputs": [],
   "source": [
    "var lines = content.split(\"\\n\")"
   ]
  },
  {
   "cell_type": "code",
   "execution_count": 5,
   "id": "36869ffd-3f8f-4fb6-adcb-02307f7f959d",
   "metadata": {
    "tags": []
   },
   "outputs": [
    {
     "name": "stdout",
     "output_type": "stream",
     "text": [
      "EgrepLiterals.Lowercase\n",
      "40\n",
      "Break on strings\n",
      "EgrepLiterals.Lowercase\n",
      "40\n",
      "Break on strings\n",
      "EgrepLiterals.Lowercase\n",
      "40\n",
      "Break on strings\n",
      "EgrepLiterals.Lowercase\n",
      "40\n",
      "Break on [       OK ] EgrepLiterals.Lowercase (270 ms)\n",
      "EgrepLiterals.MixedCase\n",
      "21\n",
      "Break on strings\n",
      "EgrepLiterals.MixedCase\n",
      "21\n",
      "Break on strings\n",
      "EgrepLiterals.MixedCase\n",
      "21\n",
      "Break on strings\n",
      "EgrepLiterals.MixedCase\n",
      "21\n",
      "Break on [       OK ] EgrepLiterals.MixedCase (326 ms)\n",
      "EgrepLiterals.FoldCase\n",
      "43\n",
      "Break on strings\n",
      "EgrepLiterals.FoldCase\n",
      "43\n",
      "Break on strings\n",
      "EgrepLiterals.FoldCase\n",
      "43\n",
      "Break on strings\n",
      "EgrepLiterals.FoldCase\n",
      "43\n",
      "Break on [       OK ] EgrepLiterals.FoldCase (440 ms)\n",
      "EgrepLiterals.UTF8\n",
      "31\n",
      "Break on strings\n",
      "EgrepLiterals.UTF8\n",
      "31\n",
      "Break on strings\n",
      "EgrepLiterals.UTF8\n",
      "31\n",
      "Break on strings\n",
      "EgrepLiterals.UTF8\n",
      "31\n",
      "Break on [       OK ] EgrepLiterals.UTF8 (131 ms)\n",
      "Repetition.Simple\n",
      "127\n",
      "Break on strings\n",
      "Repetition.Simple\n",
      "41\n",
      "Break on [       OK ] Repetition.Simple (373 ms)\n",
      "Repetition.Capturing\n",
      "255\n",
      "Break on strings\n",
      "Repetition.Capturing\n",
      "51\n",
      "Break on [       OK ] Repetition.Capturing (482 ms)\n",
      "EmptyString.Exhaustive\n",
      "63\n",
      "Break on [       OK ] EmptyString.Exhaustive (14 ms)\n",
      "Punctuation.Literals\n",
      "183\n",
      "Break on [       OK ] Punctuation.Literals (11 ms)\n",
      "LineEnds.Exhaustive\n",
      "121\n",
      "Break on [       OK ] LineEnds.Exhaustive (245 ms)\n",
      "CharacterClasses.Exhaustive\n",
      "63\n",
      "Break on [       OK ] CharacterClasses.Exhaustive (43 ms)\n",
      "CharacterClasses.ExhaustiveAB\n",
      "63\n",
      "Break on [       OK ] CharacterClasses.ExhaustiveAB (42 ms)\n",
      "InterestingUTF8.SingleOps\n",
      "465\n",
      "Break on [       OK ] InterestingUTF8.SingleOps (13 ms)\n",
      "InterestingUTF8.AB\n",
      "465\n",
      "Break on [       OK ] InterestingUTF8.AB (13 ms)\n"
     ]
    }
   ],
   "source": [
    "var sections = []\n",
    "var sectionStarted = false;\n",
    "var sectionFinished = false;\n",
    "\n",
    "var i = 0, l = lines.length;\n",
    "var objs = [];\n",
    "\n",
    "line = \"\" + lines[++i];\n",
    "\n",
    "var title = \"\";\n",
    "\n",
    "outer: while (true) {\n",
    "    var line;\n",
    "    header: do {\n",
    "        while (true) {\n",
    "            if (i >= l) break outer;\n",
    "            if (line.startsWith(\"[ RUN\")) break;\n",
    "            if (line.startsWith(\"strings\")) break header;\n",
    "            line = \"\" + lines[++i];\n",
    "        }\n",
    "        title = line.substr(line.search(\"]\") + 2);\n",
    "\n",
    "        line = \"\" + lines[++i];\n",
    "    } while(false);\n",
    "    var obj = { title, strs: [], regexps: [] };\n",
    "    console.log(obj.title)\n",
    "    if (line !== \"strings\") throw \"Unexpected line content\";\n",
    "\n",
    "    while (true) {\n",
    "        if (i >= l) break outer;\n",
    "        line = \"\" + lines[++i];\n",
    "        if (line === \"regexps\") break;\n",
    "        obj.strs.push(line);\n",
    "    }\n",
    "    \n",
    "    var nstrs = obj.strs.length;\n",
    "    console.log(nstrs)\n",
    "\n",
    "    var regexp = undefined;\n",
    "\n",
    "    while (true) {\n",
    "        if (i >= l) break outer;\n",
    "        line = \"\" + lines[++i];\n",
    "\n",
    "        if (line.startsWith(\"[\") || line.startsWith(\"strings\")) {\n",
    "            console.log(\"Break on \" + line);\n",
    "            obj.regexps.push(regexp);\n",
    "            break;\n",
    "        }\n",
    "        \n",
    "        if (line.startsWith('\"')) {\n",
    "            if (regexp !== undefined) obj.regexps.push(regexp);\n",
    "            regexp = { regexp: line, results: [] };\n",
    "            continue;\n",
    "        }\n",
    "\n",
    "        regexp.results.push(line);\n",
    "    }\n",
    "    \n",
    "    objs.push(obj);\n",
    "}\n"
   ]
  },
  {
   "cell_type": "code",
   "execution_count": 6,
   "id": "28f47d4b-1f99-4139-9c0c-e2571bc887c0",
   "metadata": {
    "tags": []
   },
   "outputs": [],
   "source": [
    "fs.writeFileSync(\"exhaustive.json\", JSON.stringify(objs, null, 2), { encoding: \"utf-8\"})"
   ]
  },
  {
   "cell_type": "code",
   "execution_count": 7,
   "id": "9a5c8162-379d-4b3c-ab53-db4ed47f291b",
   "metadata": {},
   "outputs": [
    {
     "data": {
      "text/plain": [
       "27"
      ]
     },
     "execution_count": 7,
     "metadata": {},
     "output_type": "execute_result"
    }
   ],
   "source": [
    "var testCases = [];\n",
    "for (var obj of objs) {\n",
    "    var testCase = {\n",
    "        name: obj.title,\n",
    "        strs: obj.strs.map(s => { return s.substring(1, s.length - 1); }),\n",
    "        regexs: obj.regexps.map(r => { var s = r.regexp; return s.substring(1, s.length - 1); })\n",
    "    };\n",
    "    testCases.push(testCase);\n",
    "}"
   ]
  },
  {
   "cell_type": "code",
   "execution_count": 8,
   "id": "29e9bee4-a454-4c0c-987e-b61471bcb7ce",
   "metadata": {
    "tags": []
   },
   "outputs": [],
   "source": [
    "function pad(num, size){     return ('000000000' + num).substr(-size); } "
   ]
  },
  {
   "cell_type": "code",
   "execution_count": 10,
   "id": "d592077b-f000-4116-8ae6-6cf2bbec56e8",
   "metadata": {
    "tags": []
   },
   "outputs": [
    {
     "data": {
      "text/plain": [
       "27"
      ]
     },
     "execution_count": 10,
     "metadata": {},
     "output_type": "execute_result"
    }
   ],
   "source": [
    "var current = 0;\n",
    "for (var testCase of testCases) {\n",
    "    var name = testCase.name.replace(\".\", \"_\");\n",
    "    fs.writeFileSync(`test-cases/${pad(current, 3)}_${name}.json`, JSON.stringify(\n",
    "        testCase, null, 2\n",
    "    ), { encoding: \"utf-8\" })\n",
    "    ++current;\n",
    "}"
   ]
  },
  {
   "cell_type": "code",
   "execution_count": 13,
   "id": "d1db84ca-a1bc-41a2-a81c-432864dc4bbe",
   "metadata": {
    "tags": []
   },
   "outputs": [],
   "source": [
    "function replaceAllMinusOnes(ary) {\n",
    "    function isAllMinusOnes(a) {\n",
    "        for (let i = 0; i < a.length; ++i) if (a[i] !== -1) return false;\n",
    "        return true;\n",
    "    }\n",
    "    return isAllMinusOnes(ary) ? []: ary;\n",
    "}"
   ]
  },
  {
   "cell_type": "code",
   "execution_count": 14,
   "id": "d433fdf9-72c8-4fad-ac92-1fabcd9510d1",
   "metadata": {
    "tags": []
   },
   "outputs": [
    {
     "data": {
      "text/plain": [
       "27"
      ]
     },
     "execution_count": 14,
     "metadata": {},
     "output_type": "execute_result"
    }
   ],
   "source": [
    "var testResults = [];\n",
    "var number = /^[0-9]?[0-9]$/;\n",
    "var divider = /[- ]/;\n",
    "for (var obj of objs) {\n",
    "    var testResult = { name: obj.title, ary: null };\n",
    "    testResult.ary =\n",
    "        obj.regexps.map(r => r.results.map(\n",
    "            s => {\n",
    "                let ary = s.split(\";\");\n",
    "                return ary.map(s => {\n",
    "                    let a = s.split(\" \").map(ss =>\n",
    "                        ss === \"-\" ? [-1, -1] : ss.split(\"-\").map(x=> {\n",
    "                            if (!x.match(number)) throw s;\n",
    "                            return +x;\n",
    "                        })\n",
    "                    );\n",
    "                    return replaceAllMinusOnes(Array.prototype.concat.apply([], a));\n",
    "                });\n",
    "            }\n",
    "        ));\n",
    "    testResults.push(testResult);\n",
    "}"
   ]
  },
  {
   "cell_type": "code",
   "execution_count": 15,
   "id": "d4d8fb06-7e54-46aa-ae39-77a45c778041",
   "metadata": {
    "tags": []
   },
   "outputs": [
    {
     "data": {
      "text/plain": [
       "27"
      ]
     },
     "execution_count": 15,
     "metadata": {},
     "output_type": "execute_result"
    }
   ],
   "source": [
    "var current = 0;\n",
    "for (var testResult of testResults) {\n",
    "    var name = testResult.name.replace(\".\", \"_\");\n",
    "    fs.writeFileSync(`test-results/${pad(current, 3)}_${name}.json`, JSON.stringify(\n",
    "        testResult.ary, null, 2\n",
    "    ), { encoding: \"utf-8\" })\n",
    "    ++current;\n",
    "}"
   ]
  },
  {
   "cell_type": "code",
   "execution_count": null,
   "id": "535e5ce5-000d-4e94-81dd-606eeefcb63d",
   "metadata": {},
   "outputs": [],
   "source": []
  }
 ],
 "metadata": {
  "kernelspec": {
   "display_name": "JavaScript (Node.js)",
   "language": "javascript",
   "name": "javascript"
  },
  "language_info": {
   "file_extension": ".js",
   "mimetype": "application/javascript",
   "name": "javascript",
   "version": "16.15.1"
  }
 },
 "nbformat": 4,
 "nbformat_minor": 5
}
